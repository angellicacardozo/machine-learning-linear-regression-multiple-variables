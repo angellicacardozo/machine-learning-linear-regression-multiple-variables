{
 "cells": [
  {
   "cell_type": "code",
   "execution_count": 6,
   "metadata": {
    "collapsed": true
   },
   "outputs": [],
   "source": [
    "import numpy as np\n",
    "data = np.genfromtxt('ex1data2', delimiter=',')"
   ]
  },
  {
   "cell_type": "code",
   "execution_count": 7,
   "metadata": {
    "collapsed": true
   },
   "outputs": [],
   "source": [
    "def standardization(x):\n",
    "    mean_residual = []\n",
    "    std_residual  = []\n",
    "    standardization = x\n",
    "    \n",
    "    dimension = x.shape[1]    \n",
    "    for i in range(dimension):\n",
    "        mean = np.mean(x[:, i])\n",
    "        std  = np.std(x[:, i])\n",
    "        \n",
    "        mean_residual.append(mean)\n",
    "        std_residual.append(std)\n",
    "        \n",
    "        standardization[:, i] = (1./std)*(standardization[:, i] - mean)\n",
    "        \n",
    "    return standardization"
   ]
  },
  {
   "cell_type": "code",
   "execution_count": 41,
   "metadata": {
    "collapsed": true
   },
   "outputs": [],
   "source": [
    "def cost_function(x, y, theta):\n",
    "    m = y.size\n",
    "    regression = x.dot(theta)\n",
    "    regressionError = np.sum((regression - y)**2)\n",
    "    return ((1./(2*m))*regressionError)"
   ]
  },
  {
   "cell_type": "code",
   "execution_count": 42,
   "metadata": {},
   "outputs": [
    {
     "name": "stdout",
     "output_type": "stream",
     "text": [
      "23.5\n"
     ]
    }
   ],
   "source": [
    "data = standardization(data)\n",
    "\n",
    "x = data[:, :2]\n",
    "y = data[:, [2]]\n",
    "\n",
    "x = np.insert(x, 0, np.ones(x.shape[0]), axis=1)\n",
    "\n",
    "theta = np.array([0., 0., 0.])\n",
    "\n",
    "print(cost_function(x,y,theta))"
   ]
  },
  {
   "cell_type": "code",
   "execution_count": null,
   "metadata": {
    "collapsed": true
   },
   "outputs": [],
   "source": [
    "def gradient_descent(x, y, theta, alpha, tolerance):\n",
    "    m = y.size\n",
    "    episilon = 0.00001\n",
    "    residual = np.ones(tolerance)\n",
    "    interact = 0\n",
    "    converge = False\n",
    "    while not converge:\n",
    "        ' Start adjusting theta values '\n",
    "        hypothesis   = theta.T.dot(x)\n",
    "        error        = (hypothesis - y)\n",
    "        gradient     = (1./m)*(error.T.dot(x))\n",
    "        \n",
    "        theta = theta - (alpha)*(gradient)       \n",
    "        \n",
    "        \n",
    "        coefficients = theta.size\n",
    "        \n",
    "        if interact % 100 == 0:\n",
    "            print('Error ' + str(error))\n",
    "        \n",
    "        ' Verify convergence over the given episilon and residual given step, also verify tolerance tries '\n",
    "        if interact > 0:\n",
    "            converge = (abs(residual[interact] - residual[interact - 1])<episilon)\n",
    "        \n",
    "        if (interact + 1) == tolerance:\n",
    "            converge = True"
   ]
  }
 ],
 "metadata": {
  "kernelspec": {
   "display_name": "Python 3",
   "language": "python",
   "name": "python3"
  },
  "language_info": {
   "codemirror_mode": {
    "name": "ipython",
    "version": 3
   },
   "file_extension": ".py",
   "mimetype": "text/x-python",
   "name": "python",
   "nbconvert_exporter": "python",
   "pygments_lexer": "ipython3",
   "version": "3.6.1"
  }
 },
 "nbformat": 4,
 "nbformat_minor": 2
}
