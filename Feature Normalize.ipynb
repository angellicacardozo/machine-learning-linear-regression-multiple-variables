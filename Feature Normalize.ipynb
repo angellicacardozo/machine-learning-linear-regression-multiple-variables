{
 "cells": [
  {
   "cell_type": "markdown",
   "metadata": {},
   "source": [
    "# Feature scaling or feature normalization\n",
    "\n",
    "Feature scaling is a method used to standardize the range of independent variables or features of data. In data processing, it is also known as data normalization and is generally performed during the data preprocessing step.\n",
    "\n",
    "## Feature standardization\n",
    "\n",
    "In machine learning, we can handle various types of data, e.g. audio signals and pixel values for image data, and this data can include multiple dimensions. Feature standardization makes the values of each feature in the data have zero-mean (when subtracting the mean in the numerator) and unit-variance. This method is widely used for normalization in many machine learning algorithms (e.g., support vector machines, logistic regression, and neural networks)[2][citation needed]. This is typically done by calculating standard scores.[3] The general method of calculation is to determine the distribution mean and standard deviation for each feature. Next we subtract the mean from each feature. Then we divide the values (mean is already subtracted) of each feature by its standard deviation."
   ]
  },
  {
   "cell_type": "code",
   "execution_count": 10,
   "metadata": {
    "collapsed": true
   },
   "outputs": [],
   "source": [
    "import numpy as np\n",
    "data = np.genfromtxt('ex1data2', delimiter=',')\n",
    "x = data[:,[0]]\n",
    "y = data[:,1]"
   ]
  },
  {
   "cell_type": "code",
   "execution_count": 16,
   "metadata": {},
   "outputs": [],
   "source": [
    "def standardization(x):\n",
    "    mean_residual = []\n",
    "    std_residual  = []\n",
    "    standardization = x\n",
    "    \n",
    "    dimension = x.shape[1]    \n",
    "    for i in range(dimension):\n",
    "        mean = np.mean(x[:, i])\n",
    "        std  = np.std(x[:, i])\n",
    "        \n",
    "        mean_residual.append(mean)\n",
    "        std_residual.append(std)\n",
    "        \n",
    "        standardization[:, i] = (1./std)*(standardization[:, i] - mean)\n",
    "        \n",
    "    return standardization"
   ]
  },
  {
   "cell_type": "code",
   "execution_count": 17,
   "metadata": {},
   "outputs": [
    {
     "name": "stdout",
     "output_type": "stream",
     "text": [
      "[[  1.31415422e-01  -2.26093368e-01   4.80890225e-01]\n",
      " [ -5.09640698e-01  -2.26093368e-01  -8.49833796e-02]\n",
      " [  5.07908699e-01  -2.26093368e-01   2.31097448e-01]\n",
      " [ -7.43677059e-01  -1.55439190e+00  -8.76398036e-01]\n",
      " [  1.27107075e+00   1.10220517e+00   1.61263744e+00]\n",
      " [ -1.99450507e-02   1.10220517e+00  -3.27500639e-01]\n",
      " [ -5.93588523e-01  -2.26093368e-01  -2.06242009e-01]\n",
      " [ -7.29685755e-01  -2.26093368e-01  -1.14317510e+00]\n",
      " [ -7.89466782e-01  -2.26093368e-01  -1.03807621e+00]\n",
      " [ -6.44465993e-01  -2.26093368e-01  -7.91516995e-01]\n",
      " [ -7.71822042e-02   1.10220517e+00  -8.11734851e-01]\n",
      " [ -8.65999486e-04  -2.26093368e-01   5.32514582e-02]\n",
      " [ -1.40779041e-01  -2.26093368e-01  -8.41830726e-02]\n",
      " [  3.15099326e+00   2.43050370e+00   2.90606282e+00]\n",
      " [ -9.31923697e-01  -2.26093368e-01  -6.50856985e-01]\n",
      " [  3.80715024e-01   1.10220517e+00   8.85085658e-01]\n",
      " [ -8.65782986e-01  -1.55439190e+00  -3.27500639e-01]\n",
      " [ -9.72625673e-01  -2.26093368e-01  -1.13589150e+00]\n",
      " [  7.73743478e-01   1.10220517e+00   1.29007331e+00]\n",
      " [  1.31050078e+00   1.10220517e+00   2.09039644e+00]\n",
      " [ -2.97227261e-01  -2.26093368e-01  -7.07444345e-01]\n",
      " [ -1.43322915e-01  -1.55439190e+00  -6.90468137e-01]\n",
      " [ -5.04552951e-01  -2.26093368e-01  -7.88283432e-01]\n",
      " [ -4.91995958e-02   1.10220517e+00  -6.50856985e-01]\n",
      " [  2.40309445e+00  -2.26093368e-01   1.88749033e+00]\n",
      " [ -1.14560907e+00  -2.26093368e-01  -7.31696071e-01]\n",
      " [ -6.90255715e-01  -2.26093368e-01   1.00311072e+00]\n",
      " [  6.68172729e-01  -2.26093368e-01   1.03948831e+00]\n",
      " [  2.53521350e-01  -2.26093368e-01   1.08799176e+00]\n",
      " [  8.09357707e-01  -2.26093368e-01  -3.27500639e-01]\n",
      " [ -2.05647815e-01  -1.55439190e+00   7.66947933e-02]\n",
      " [ -1.27280274e+00  -2.88269044e+00  -1.37840876e+00]\n",
      " [  5.00114703e-02   1.10220517e+00  -2.06242009e-01]\n",
      " [  1.44532608e+00  -2.26093368e-01   1.93599378e+00]\n",
      " [ -2.41262044e-01   1.10220517e+00  -4.40675360e-01]\n",
      " [ -7.16966387e-01  -2.26093368e-01  -7.31696071e-01]\n",
      " [ -9.68809863e-01  -2.26093368e-01  -8.93374244e-01]\n",
      " [  1.67029651e-01   1.10220517e+00   3.70836409e-02]\n",
      " [  2.81647389e+00   1.10220517e+00   1.68620100e+00]\n",
      " [  2.05187753e-01   1.10220517e+00  -4.31783060e-01]\n",
      " [ -4.28236746e-01  -1.55439190e+00   2.27055494e-01]\n",
      " [  3.01854946e-01  -2.26093368e-01  -8.49833796e-02]\n",
      " [  7.20322135e-01   1.10220517e+00  -2.13517527e-01]\n",
      " [ -1.01841540e+00  -2.26093368e-01  -3.34776157e-01]\n",
      " [ -1.46104938e+00  -1.55439190e+00  -1.29756968e+00]\n",
      " [ -1.89112638e-01   1.10220517e+00  -3.27500639e-01]\n",
      " [ -1.01459959e+00  -2.26093368e-01  -8.15768721e-01]]\n"
     ]
    }
   ],
   "source": [
    "print(standardization(data))"
   ]
  },
  {
   "cell_type": "code",
   "execution_count": null,
   "metadata": {
    "collapsed": true
   },
   "outputs": [],
   "source": []
  }
 ],
 "metadata": {
  "kernelspec": {
   "display_name": "Python 3",
   "language": "python",
   "name": "python3"
  },
  "language_info": {
   "codemirror_mode": {
    "name": "ipython",
    "version": 3
   },
   "file_extension": ".py",
   "mimetype": "text/x-python",
   "name": "python",
   "nbconvert_exporter": "python",
   "pygments_lexer": "ipython3",
   "version": "3.6.1"
  }
 },
 "nbformat": 4,
 "nbformat_minor": 2
}
