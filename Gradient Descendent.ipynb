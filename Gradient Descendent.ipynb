{
 "cells": [
  {
   "cell_type": "code",
   "execution_count": 1,
   "metadata": {
    "collapsed": true
   },
   "outputs": [],
   "source": [
    "import numpy as np\n",
    "data = np.genfromtxt('ex1data2', delimiter=',')\n",
    "x = data[:,[0]]\n",
    "y = data[:,1]\n",
    "\n",
    "x = np.insert(x, 0, np.ones(x.size), axis=1)\n",
    "theta = np.array([0., 0.])"
   ]
  },
  {
   "cell_type": "code",
   "execution_count": 2,
   "metadata": {
    "collapsed": true
   },
   "outputs": [],
   "source": [
    "def cost_function(x, y, theta):\n",
    "    m = y.size\n",
    "    regression = x.dot(theta)\n",
    "    regressionError = np.sum((regression - y)**2)\n",
    "    return ((1./(2*m))*regressionError)"
   ]
  },
  {
   "cell_type": "code",
   "execution_count": 3,
   "metadata": {},
   "outputs": [
    {
     "name": "stdout",
     "output_type": "stream",
     "text": [
      "5.3085106383\n"
     ]
    }
   ],
   "source": [
    "print(cost_function(x,y,theta))"
   ]
  },
  {
   "cell_type": "code",
   "execution_count": null,
   "metadata": {
    "collapsed": true
   },
   "outputs": [],
   "source": []
  }
 ],
 "metadata": {
  "kernelspec": {
   "display_name": "Python 3",
   "language": "python",
   "name": "python3"
  },
  "language_info": {
   "codemirror_mode": {
    "name": "ipython",
    "version": 3
   },
   "file_extension": ".py",
   "mimetype": "text/x-python",
   "name": "python",
   "nbconvert_exporter": "python",
   "pygments_lexer": "ipython3",
   "version": "3.6.1"
  }
 },
 "nbformat": 4,
 "nbformat_minor": 2
}
